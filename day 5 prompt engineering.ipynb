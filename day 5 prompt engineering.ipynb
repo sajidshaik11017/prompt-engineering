{
 "cells": [
  {
   "cell_type": "code",
   "execution_count": null,
   "id": "aa20fb2b",
   "metadata": {},
   "outputs": [],
   "source": []
  },
  {
   "cell_type": "code",
   "execution_count": null,
   "id": "b7eed347",
   "metadata": {},
   "outputs": [],
   "source": [
    "import panel as pn\n",
    "\n",
    "pn.extension()\n",
    "\n",
    "# Define the chatbot function\n",
    "def chatbot(message):\n",
    "    # Define the prompt using the user's message\n",
    "    prompt = f'User: {message}\\nBot:'\n",
    "\n",
    "    # Generate a response from OpenAI Chat API\n",
    "    response = openai.ChatCompletion.create(\n",
    "        model=\"gpt-3.5-turbo\",\n",
    "        messages=[{\"role\": \"user\", \"content\": prompt}],\n",
    "        temperature=0.6\n",
    "    )\n",
    "\n",
    "    # Extract and return the generated response from the API\n",
    "    bot_response = response.choices[0].message[\"content\"]\n",
    "    return bot_response\n",
    "\n",
    "# Define the callback function for the chat button\n",
    "def on_chat_button_click(event):\n",
    "    user_input = input_box.value\n",
    "    bot_response = chatbot(user_input)\n",
    "    messages.append(f'User: {user_input}')\n",
    "    messages.append(f'Bot: {bot_response}')\n",
    "    chat_history.value = \"\\n\".join(messages)\n",
    "\n",
    "# Create the input box and chat button\n",
    "input_box = pn.widgets.TextInput(value=\"\", placeholder=\"Enter your message\")\n",
    "chat_button = pn.widgets.Button(name=\"Chat\")\n",
    "chat_button.on_click(on_chat_button_click)\n",
    "\n",
    "# Create the chat history display\n",
    "messages = []\n",
    "chat_history = pn.widgets.TextAreaInput(value=\"\", height=300)\n",
    "\n",
    "# Create the chatbot interface layout\n",
    "chatbot_layout = pn.Column(\n",
    "    pn.Row(input_box, chat_button),\n",
    "    chat_history\n",
    ")\n",
    "\n",
    "# Show the chatbot interface\n",
    "chatbot_layout"
   ]
  }
 ],
 "metadata": {
  "kernelspec": {
   "display_name": "Python 3 (ipykernel)",
   "language": "python",
   "name": "python3"
  },
  "language_info": {
   "codemirror_mode": {
    "name": "ipython",
    "version": 3
   },
   "file_extension": ".py",
   "mimetype": "text/x-python",
   "name": "python",
   "nbconvert_exporter": "python",
   "pygments_lexer": "ipython3",
   "version": "3.8.4"
  }
 },
 "nbformat": 4,
 "nbformat_minor": 5
}
